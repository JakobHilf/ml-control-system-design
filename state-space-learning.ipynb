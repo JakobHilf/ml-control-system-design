{
 "cells": [
  {
   "cell_type": "code",
   "execution_count": 1,
   "metadata": {},
   "outputs": [
    {
     "data": {
      "text/plain": [
       "1×1000 Array{Float64,2}:\n",
       " 8.35243  1.58488  3.55318  7.44984  …  4.83674  1.47185  5.11447  6.60781"
      ]
     },
     "execution_count": 1,
     "metadata": {},
     "output_type": "execute_result"
    }
   ],
   "source": [
    "# STEP 1: read data\n",
    "U = rand(1,1000) * 10\n",
    "Y = rand(1,1000) * 10"
   ]
  },
  {
   "cell_type": "code",
   "execution_count": 2,
   "metadata": {},
   "outputs": [
    {
     "data": {
      "text/plain": [
       "3×1 Array{Float64,2}:\n",
       " 0.453133 \n",
       " 0.0652398\n",
       " 0.372712 "
      ]
     },
     "execution_count": 2,
     "metadata": {},
     "output_type": "execute_result"
    }
   ],
   "source": [
    "# STEP 2: initialize weights and setup nn\n",
    "A = rand(3,3) * 2 - 1\n",
    "B = rand(3,1) * 2 - 1\n",
    "C = rand(1,3) * 2 - 1\n",
    "D = rand() * 2 - 1\n",
    "\n",
    "X_0 = rand(3,1) * 2 - 1\n",
    "\n",
    "# nn has two layers:\n",
    "\n",
    "# l = 1:\n",
    "#   -> calculation of x(k+1) = A * x(k) + B * u(k) and chaching that value\n",
    "#   -> passing on x(k) and u(k) to the next layer\n",
    "\n",
    "# l = 2:\n",
    "#   -> calculating y(k) = C * x(k) + D * u(k)\n",
    "\n",
    "\n"
   ]
  },
  {
   "cell_type": "code",
   "execution_count": 16,
   "metadata": {},
   "outputs": [
    {
     "data": {
      "text/plain": [
       "forward_propagation (generic function with 1 method)"
      ]
     },
     "execution_count": 16,
     "metadata": {},
     "output_type": "execute_result"
    }
   ],
   "source": [
    "# STEP 3: funtion for forward propagation\n",
    "\n",
    "function forward_propagation(A, B, C, D, U)\n",
    "    \n",
    "    # number of samples\n",
    "    m = size(U)[2]\n",
    "    \n",
    "    # initialize Y_hat\n",
    "    Y_hat = zeros(m)\n",
    "    \n",
    "    # initialize first cache\n",
    "    X_cache = [0;0;0]\n",
    "    \n",
    "    #forward propagation for all U\n",
    "    for i in 1:m\n",
    "        X_now = X_cache\n",
    "        X_cache = A*X_now + B*U[i]\n",
    "        Y_hat[i] = convert(Float64,C*X_now + D*U[i])\n",
    "        println(Y_hat[i])\n",
    "    end\n",
    "    \n",
    "    return m\n",
    "\n",
    "end\n",
    "\n"
   ]
  },
  {
   "cell_type": "code",
   "execution_count": null,
   "metadata": {},
   "outputs": [],
   "source": []
  },
  {
   "cell_type": "code",
   "execution_count": 17,
   "metadata": {},
   "outputs": [
    {
     "ename": "LoadError",
     "evalue": "\u001b[91mMethodError: Cannot `convert` an object of type Array{Float64,1} to an object of type Float64\nThis may have arisen from a call to the constructor Float64(...),\nsince type constructors fall back to convert methods.\u001b[39m",
     "output_type": "error",
     "traceback": [
      "\u001b[91mMethodError: Cannot `convert` an object of type Array{Float64,1} to an object of type Float64\nThis may have arisen from a call to the constructor Float64(...),\nsince type constructors fall back to convert methods.\u001b[39m",
      "",
      "Stacktrace:",
      " [1] \u001b[1mforward_propagation\u001b[22m\u001b[22m\u001b[1m(\u001b[22m\u001b[22m::Array{Float64,2}, ::Array{Float64,2}, ::Array{Float64,2}, ::Float64, ::Array{Float64,2}\u001b[1m)\u001b[22m\u001b[22m at \u001b[1m./In[16]:18\u001b[22m\u001b[22m"
     ]
    }
   ],
   "source": [
    "forward_propagation(A, B, C, D, U)"
   ]
  },
  {
   "cell_type": "code",
   "execution_count": 5,
   "metadata": {},
   "outputs": [],
   "source": [
    "# STEP 4: function to compute loss\n"
   ]
  },
  {
   "cell_type": "code",
   "execution_count": 6,
   "metadata": {},
   "outputs": [],
   "source": [
    "# STEP 5: function for backward propagation\n"
   ]
  },
  {
   "cell_type": "code",
   "execution_count": 7,
   "metadata": {},
   "outputs": [],
   "source": [
    "# STEP 6: train model (using STEP 3 - STEP 5)\n"
   ]
  },
  {
   "cell_type": "code",
   "execution_count": 8,
   "metadata": {},
   "outputs": [],
   "source": [
    "# STEP 7: test model and print accuracy\n"
   ]
  }
 ],
 "metadata": {
  "kernelspec": {
   "display_name": "Julia 0.6.2",
   "language": "julia",
   "name": "julia-0.6"
  },
  "language_info": {
   "file_extension": ".jl",
   "mimetype": "application/julia",
   "name": "julia",
   "version": "0.6.2"
  }
 },
 "nbformat": 4,
 "nbformat_minor": 2
}
